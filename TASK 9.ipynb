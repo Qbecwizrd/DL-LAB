{
 "cells": [
  {
   "cell_type": "code",
   "execution_count": 3,
   "id": "e107e708",
   "metadata": {},
   "outputs": [
    {
     "name": "stderr",
     "output_type": "stream",
     "text": [
      "C:\\Users\\DELL\\anaconda3\\Lib\\site-packages\\keras\\src\\layers\\core\\dense.py:87: UserWarning: Do not pass an `input_shape`/`input_dim` argument to a layer. When using Sequential models, prefer using an `Input(shape)` object as the first layer in the model instead.\n",
      "  super().__init__(activity_regularizer=activity_regularizer, **kwargs)\n"
     ]
    },
    {
     "name": "stdout",
     "output_type": "stream",
     "text": [
      "Training with sgd optimizers\n",
      "Test Acuracy with sgd :0.5666666626930237\n",
      "Training with adam optimizers\n",
      "Test Acuracy with adam :0.8299999833106995\n",
      "Training with rmsprop optimizers\n",
      "Test Acuracy with rmsprop :0.8333333134651184\n"
     ]
    }
   ],
   "source": [
    "#task 9\n",
    "#desing a neural network with various optimization algorithms\n",
    "\n",
    "\n",
    "import tensorflow as tf\n",
    "from tensorflow.keras.layers import Dense\n",
    "from sklearn.datasets import make_classification\n",
    "from sklearn.model_selection import train_test_split\n",
    "from sklearn.preprocessing import StandardScaler\n",
    "from tensorflow.keras.models import Sequential\n",
    "\n",
    "#Generate a binary classification dataset\n",
    "X,y=make_classification(n_samples=1000,n_features=20,n_classes=2,random_state=1)\n",
    "\n",
    "#split the data into training and testing data\n",
    "\n",
    "X_train,X_test,y_train,y_test=train_test_split(X,y,test_size=0.3,random_state=1)\n",
    "\n",
    "#standardize the features\n",
    "\n",
    "sc=StandardScaler()\n",
    "X_train=sc.fit_transform(X_train)\n",
    "X_test=sc.transform(X_test)\n",
    "\n",
    "#Build the neural network model\n",
    "\n",
    "model=Sequential([\n",
    "    Dense(64,input_dim=20,activation='relu'),\n",
    "    Dense(64,activation='relu'),\n",
    "    Dense(1,activation='sigmoid')\n",
    "])\n",
    "\n",
    "\n",
    "\n",
    "optimizers=['sgd','adam','rmsprop']\n",
    "\n",
    "for opt in optimizers:\n",
    "    print(f'Training with {opt} optimizers')\n",
    "    model.compile(optimizer=opt,loss='binary_crossentropy',metrics=['accuracy'])\n",
    "    model.fit(X_train,y_train,epochs=1,batch_size=10,verbose=0)\n",
    "    #epoch should be 5\n",
    "    loss,accuracy=model.evaluate(X_test,y_test,verbose=0)\n",
    "    print(f'Test Acuracy with {opt} :{accuracy}')\n",
    "    \n",
    "    \n",
    "    \n",
    "\n"
   ]
  },
  {
   "cell_type": "code",
   "execution_count": null,
   "id": "69e723c6",
   "metadata": {},
   "outputs": [],
   "source": []
  }
 ],
 "metadata": {
  "kernelspec": {
   "display_name": "Python 3 (ipykernel)",
   "language": "python",
   "name": "python3"
  },
  "language_info": {
   "codemirror_mode": {
    "name": "ipython",
    "version": 3
   },
   "file_extension": ".py",
   "mimetype": "text/x-python",
   "name": "python",
   "nbconvert_exporter": "python",
   "pygments_lexer": "ipython3",
   "version": "3.11.5"
  }
 },
 "nbformat": 4,
 "nbformat_minor": 5
}
