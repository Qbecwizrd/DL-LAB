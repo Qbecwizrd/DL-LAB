{
 "cells": [
  {
   "cell_type": "code",
   "execution_count": 1,
   "id": "8d5b2cf9",
   "metadata": {},
   "outputs": [
    {
     "name": "stdout",
     "output_type": "stream",
     "text": [
      "Original Categories;\n",
      " ['apple' 'banana' 'orange' 'apple']\n",
      "One-Hot Encoded:\n",
      " [[1. 0. 0.]\n",
      " [0. 1. 0.]\n",
      " [0. 0. 1.]\n",
      " [1. 0. 0.]]\n"
     ]
    },
    {
     "name": "stderr",
     "output_type": "stream",
     "text": [
      "C:\\Users\\DELL\\anaconda3\\Lib\\site-packages\\sklearn\\preprocessing\\_encoders.py:972: FutureWarning: `sparse` was renamed to `sparse_output` in version 1.2 and will be removed in 1.4. `sparse_output` is ignored unless you leave `sparse` to its default value.\n",
      "  warnings.warn(\n"
     ]
    }
   ],
   "source": [
    "#Task11\n",
    "\n",
    "#Apply one hot encoding technique\n",
    "\n",
    "import numpy as np\n",
    "from sklearn.preprocessing import OneHotEncoder\n",
    "\n",
    "#exmples categorical data\n",
    "\n",
    "categories=np.array(['apple','banana','orange','apple']).reshape(-1,1)\n",
    "\n",
    "#apply one hot encoding \n",
    "\n",
    "encoder=OneHotEncoder(sparse=False)\n",
    "one_hot_encoded=encoder.fit_transform(categories)\n",
    "\n",
    "print('Original Categories;\\n',categories.flatten())\n",
    "print('One-Hot Encoded:\\n',one_hot_encoded)\n",
    "\n"
   ]
  },
  {
   "cell_type": "code",
   "execution_count": null,
   "id": "8d7fbba4",
   "metadata": {},
   "outputs": [],
   "source": [
    "#task 12\n",
    "#deep learning framework for object detection\n",
    "pip install opencv-python\n",
    "\n",
    "\n",
    "import cv2\n",
    "from matplotlib import pyplot as plt\n",
    "import urllib.request\n",
    "\n",
    "\n",
    "img=cv2.imread(r\"C:\\Users\\DELL\\Desktop\\sign.jpg\")\n",
    "\n",
    "#openCV opens images as RGB\n",
    "#but we want it as RGB we'll \n",
    "#also need a grayscale version\n",
    "# Convert to grayscale\n",
    "img_gray = cv2.cvtColor(img, cv2.COLOR_BGR2GRAY)\n",
    "\n",
    "# Convert to RGB (optional)\n",
    "img_rgb = cv2.cvtColor(img, cv2.COLOR_BGR2RGB)\n",
    "\n",
    "\n",
    "#use minSize because for not\n",
    "#bothering with extra-small\n",
    "#dots that would look like STOP signs\n",
    "\n",
    "stop_data = cv2.CascadeClassifier('stop_data.xml')\n",
    "found = stop_data.detectMultiScale(img_gray,minSize=(20,20))\n",
    "\n",
    "\n",
    "#Dont do anything if there's\n",
    "#no sign\n",
    "\n",
    "amount_found = len(found)\n",
    "\n",
    "if amount_found !=0:\n",
    "    #there may be more than one\n",
    "    #sign in the image\n",
    "    for (x,y,width,height) in found:\n",
    "        #we draw a green rectangle around\n",
    "        #every recognized sign\n",
    "        cv2.rectangle(img_rgb,(x,y),(x+height,y_width),(0,255,0),5)\n",
    "        \n",
    "        \n",
    "#creates the environment of\n",
    "#the picture and shows it\n",
    "\n",
    "plt.subplot(1,1,1)\n",
    "plt.imshow(img_rgb)\n",
    "plt.show()"
   ]
  }
 ],
 "metadata": {
  "kernelspec": {
   "display_name": "Python 3 (ipykernel)",
   "language": "python",
   "name": "python3"
  },
  "language_info": {
   "codemirror_mode": {
    "name": "ipython",
    "version": 3
   },
   "file_extension": ".py",
   "mimetype": "text/x-python",
   "name": "python",
   "nbconvert_exporter": "python",
   "pygments_lexer": "ipython3",
   "version": "3.11.5"
  }
 },
 "nbformat": 4,
 "nbformat_minor": 5
}
