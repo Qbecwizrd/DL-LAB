{
 "cells": [
  {
   "cell_type": "code",
   "execution_count": 1,
   "id": "b362a03c",
   "metadata": {},
   "outputs": [],
   "source": [
    "#Task 5\n",
    "\n",
    "#Deep Neural Network for multi-class text classification"
   ]
  },
  {
   "cell_type": "code",
   "execution_count": null,
   "id": "3f43d3e8",
   "metadata": {},
   "outputs": [
    {
     "name": "stderr",
     "output_type": "stream",
     "text": [
      "C:\\Users\\DELL\\anaconda3\\Lib\\site-packages\\keras\\src\\layers\\core\\dense.py:87: UserWarning: Do not pass an `input_shape`/`input_dim` argument to a layer. When using Sequential models, prefer using an `Input(shape)` object as the first layer in the model instead.\n",
      "  super().__init__(activity_regularizer=activity_regularizer, **kwargs)\n"
     ]
    },
    {
     "name": "stdout",
     "output_type": "stream",
     "text": [
      "Epoch 1/5\n",
      "\u001b[1m225/225\u001b[0m \u001b[32m━━━━━━━━━━━━━━━━━━━━\u001b[0m\u001b[37m\u001b[0m \u001b[1m27s\u001b[0m 88ms/step - accuracy: 0.5484 - loss: 2.0015 - val_accuracy: 0.7624 - val_loss: 1.0527\n",
      "Epoch 2/5\n",
      "\u001b[1m225/225\u001b[0m \u001b[32m━━━━━━━━━━━━━━━━━━━━\u001b[0m\u001b[37m\u001b[0m \u001b[1m20s\u001b[0m 86ms/step - accuracy: 0.8062 - loss: 0.8497 - val_accuracy: 0.8036 - val_loss: 0.8961\n",
      "Epoch 3/5\n",
      "\u001b[1m179/225\u001b[0m \u001b[32m━━━━━━━━━━━━━━━\u001b[0m\u001b[37m━━━━━\u001b[0m \u001b[1m3s\u001b[0m 85ms/step - accuracy: 0.8822 - loss: 0.4900"
     ]
    }
   ],
   "source": [
    "from tensorflow.keras.datasets import reuters\n",
    "from tensorflow.keras.models import Sequential\n",
    "from tensorflow.keras.layers import Dense, Dropout\n",
    "from tensorflow.keras.preprocessing.text import Tokenizer\n",
    "from tensorflow.keras.utils import to_categorical\n",
    "\n",
    "# Load the Reuters dataset\n",
    "max_words = 10000  # Limit to the top 10,000 words\n",
    "\n",
    "(x_train, y_train), (x_test, y_test) = reuters.load_data(num_words=max_words)\n",
    "\n",
    "# Tokenize and prepare the data\n",
    "\n",
    "# Initialize the Tokenizer\n",
    "tokenizer = Tokenizer(num_words=max_words)\n",
    "\n",
    "# Convert the sequences into a binary matrix representation\n",
    "x_train = tokenizer.sequences_to_matrix(x_train, mode='binary')\n",
    "x_test = tokenizer.sequences_to_matrix(x_test, mode='binary')\n",
    "\n",
    "# Convert labels to categorical format\n",
    "y_train = to_categorical(y_train, num_classes=46)  # 46 categories in Reuters dataset\n",
    "y_test = to_categorical(y_test, num_classes=46)\n",
    "\n",
    "# Build the model\n",
    "model = Sequential([\n",
    "    Dense(512, input_shape=(max_words,), activation='relu'),  # Input layer, 10,000 features\n",
    "    Dropout(0.5),  # Regularization\n",
    "    Dense(512, activation='relu'),  # Hidden layer\n",
    "    Dropout(0.5),  # Regularization\n",
    "    Dense(46, activation='softmax')  # Output layer, 46 categories\n",
    "])\n",
    "\n",
    "# Compile the model\n",
    "model.compile(optimizer='adam', loss='categorical_crossentropy', metrics=['accuracy'])\n",
    "\n",
    "# Train the model\n",
    "model.fit(x_train, y_train, epochs=5, batch_size=32, validation_split=0.2)\n",
    "\n",
    "\n",
    "# Evaluate the model on the test data\n",
    "score = model.evaluate(x_test, y_test, batch_size=32)\n",
    "\n",
    "# Print the test accuracy\n",
    "print(f'Test accuracy: {score[1]}')\n"
   ]
  },
  {
   "cell_type": "code",
   "execution_count": null,
   "id": "83c0dfd8",
   "metadata": {},
   "outputs": [],
   "source": []
  }
 ],
 "metadata": {
  "kernelspec": {
   "display_name": "Python 3 (ipykernel)",
   "language": "python",
   "name": "python3"
  },
  "language_info": {
   "codemirror_mode": {
    "name": "ipython",
    "version": 3
   },
   "file_extension": ".py",
   "mimetype": "text/x-python",
   "name": "python",
   "nbconvert_exporter": "python",
   "pygments_lexer": "ipython3",
   "version": "3.11.5"
  }
 },
 "nbformat": 4,
 "nbformat_minor": 5
}
