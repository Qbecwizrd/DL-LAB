{
 "cells": [
  {
   "cell_type": "code",
   "execution_count": 1,
   "id": "276e01ef",
   "metadata": {},
   "outputs": [],
   "source": [
    "#Task 6\n",
    "\n",
    "#model for MNIST hand written digit classifcation"
   ]
  },
  {
   "cell_type": "code",
   "execution_count": 4,
   "id": "5f9d748a",
   "metadata": {},
   "outputs": [
    {
     "name": "stdout",
     "output_type": "stream",
     "text": [
      "Epoch 1/10\n",
      "\u001b[1m375/375\u001b[0m \u001b[32m━━━━━━━━━━━━━━━━━━━━\u001b[0m\u001b[37m\u001b[0m \u001b[1m11s\u001b[0m 25ms/step - accuracy: 0.7737 - loss: 0.7269 - val_accuracy: 0.9792 - val_loss: 0.0715\n",
      "Epoch 2/10\n",
      "\u001b[1m375/375\u001b[0m \u001b[32m━━━━━━━━━━━━━━━━━━━━\u001b[0m\u001b[37m\u001b[0m \u001b[1m10s\u001b[0m 26ms/step - accuracy: 0.9673 - loss: 0.1123 - val_accuracy: 0.9852 - val_loss: 0.0525\n",
      "Epoch 3/10\n",
      "\u001b[1m375/375\u001b[0m \u001b[32m━━━━━━━━━━━━━━━━━━━━\u001b[0m\u001b[37m\u001b[0m \u001b[1m9s\u001b[0m 25ms/step - accuracy: 0.9755 - loss: 0.0820 - val_accuracy: 0.9878 - val_loss: 0.0424\n",
      "Epoch 4/10\n",
      "\u001b[1m375/375\u001b[0m \u001b[32m━━━━━━━━━━━━━━━━━━━━\u001b[0m\u001b[37m\u001b[0m \u001b[1m9s\u001b[0m 25ms/step - accuracy: 0.9821 - loss: 0.0635 - val_accuracy: 0.9877 - val_loss: 0.0441\n",
      "Epoch 5/10\n",
      "\u001b[1m375/375\u001b[0m \u001b[32m━━━━━━━━━━━━━━━━━━━━\u001b[0m\u001b[37m\u001b[0m \u001b[1m10s\u001b[0m 25ms/step - accuracy: 0.9834 - loss: 0.0557 - val_accuracy: 0.9890 - val_loss: 0.0396\n",
      "Epoch 6/10\n",
      "\u001b[1m375/375\u001b[0m \u001b[32m━━━━━━━━━━━━━━━━━━━━\u001b[0m\u001b[37m\u001b[0m \u001b[1m10s\u001b[0m 26ms/step - accuracy: 0.9872 - loss: 0.0395 - val_accuracy: 0.9900 - val_loss: 0.0354\n",
      "Epoch 7/10\n",
      "\u001b[1m375/375\u001b[0m \u001b[32m━━━━━━━━━━━━━━━━━━━━\u001b[0m\u001b[37m\u001b[0m \u001b[1m10s\u001b[0m 27ms/step - accuracy: 0.9880 - loss: 0.0380 - val_accuracy: 0.9905 - val_loss: 0.0355\n",
      "Epoch 8/10\n",
      "\u001b[1m375/375\u001b[0m \u001b[32m━━━━━━━━━━━━━━━━━━━━\u001b[0m\u001b[37m\u001b[0m \u001b[1m10s\u001b[0m 26ms/step - accuracy: 0.9897 - loss: 0.0325 - val_accuracy: 0.9892 - val_loss: 0.0375\n",
      "Epoch 9/10\n",
      "\u001b[1m375/375\u001b[0m \u001b[32m━━━━━━━━━━━━━━━━━━━━\u001b[0m\u001b[37m\u001b[0m \u001b[1m10s\u001b[0m 27ms/step - accuracy: 0.9905 - loss: 0.0289 - val_accuracy: 0.9910 - val_loss: 0.0313\n",
      "Epoch 10/10\n",
      "\u001b[1m375/375\u001b[0m \u001b[32m━━━━━━━━━━━━━━━━━━━━\u001b[0m\u001b[37m\u001b[0m \u001b[1m14s\u001b[0m 37ms/step - accuracy: 0.9917 - loss: 0.0261 - val_accuracy: 0.9915 - val_loss: 0.0338\n",
      "\u001b[1m313/313\u001b[0m \u001b[32m━━━━━━━━━━━━━━━━━━━━\u001b[0m\u001b[37m\u001b[0m \u001b[1m2s\u001b[0m 7ms/step - accuracy: 0.9876 - loss: 0.0340\n",
      "Test Accuracy : 0.9904999732971191\n"
     ]
    }
   ],
   "source": [
    "import tensorflow as tf\n",
    "from tensorflow.keras.datasets import mnist\n",
    "from tensorflow.keras.models import Sequential\n",
    "from tensorflow.keras.layers import Conv2D,MaxPooling2D,Flatten,Dense,Dropout\n",
    "\n",
    "from tensorflow.keras.utils import to_categorical\n",
    "\n",
    "\n",
    "#load the mnist data set\n",
    "\n",
    "(x_train,y_train),(x_test,y_test)=mnist.load_data()\n",
    "\n",
    "#reshape the normalize of the data\n",
    "\n",
    "x_train=x_train.reshape(x_train.shape[0],28,28,1).astype('float32')/255\n",
    "\n",
    "x_test=x_test.reshape(x_test.shape[0],28,28,1).astype('float32')/255\n",
    "\n",
    "#Convert the labels into ctegorical format\n",
    "\n",
    "y_train=to_categorical(y_train,10)\n",
    "y_test=to_categorical(y_test,10)\n",
    "\n",
    "\n",
    "#Build the CNN Model\n",
    "\n",
    "model=Sequential([\n",
    "    Conv2D(32,kernel_size=(3,3),activation='relu',input_shape=(28,28,1)),\n",
    "    MaxPooling2D(pool_size=(2,2)),\n",
    "    Conv2D(64,kernel_size=(3,3),activation='relu'),\n",
    "    MaxPooling2D(pool_size=(2,2)),\n",
    "    Flatten(),\n",
    "    Dense(128,activation='relu'),\n",
    "    Dropout(0.5),\n",
    "    Dense(10,activation='softmax')\n",
    "])\n",
    "\n",
    "\n",
    "#Compile the model\n",
    "\n",
    "model.compile(optimizer='adam',loss='categorical_crossentropy',metrics=['accuracy'])\n",
    "\n",
    "#Train the model\n",
    "\n",
    "model.fit(x_train,y_train,epochs=10,batch_size=128,validation_split=0.2)\n",
    "\n",
    "\n",
    "#evaluate the model\n",
    "\n",
    "test_loss,test_acc=model.evaluate(x_test,y_test)\n",
    "print(f'Test Accuracy : {test_acc}')"
   ]
  },
  {
   "cell_type": "code",
   "execution_count": null,
   "id": "9e80315a",
   "metadata": {},
   "outputs": [],
   "source": []
  }
 ],
 "metadata": {
  "kernelspec": {
   "display_name": "Python 3 (ipykernel)",
   "language": "python",
   "name": "python3"
  },
  "language_info": {
   "codemirror_mode": {
    "name": "ipython",
    "version": 3
   },
   "file_extension": ".py",
   "mimetype": "text/x-python",
   "name": "python",
   "nbconvert_exporter": "python",
   "pygments_lexer": "ipython3",
   "version": "3.11.5"
  }
 },
 "nbformat": 4,
 "nbformat_minor": 5
}
