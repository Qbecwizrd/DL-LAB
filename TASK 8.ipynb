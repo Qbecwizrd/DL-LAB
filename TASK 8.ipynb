{
 "cells": [
  {
   "cell_type": "code",
   "execution_count": 3,
   "id": "22a3f7dc",
   "metadata": {},
   "outputs": [
    {
     "name": "stdout",
     "output_type": "stream",
     "text": [
      "\u001b[1m625/625\u001b[0m \u001b[32m━━━━━━━━━━━━━━━━━━━━\u001b[0m\u001b[37m\u001b[0m \u001b[1m216s\u001b[0m 342ms/step - accuracy: 0.7124 - loss: 0.5483 - val_accuracy: 0.7260 - val_loss: 0.5443\n",
      "\u001b[1m782/782\u001b[0m \u001b[32m━━━━━━━━━━━━━━━━━━━━\u001b[0m\u001b[37m\u001b[0m \u001b[1m84s\u001b[0m 108ms/step - accuracy: 0.7131 - loss: 0.5553\n",
      "Test aAccuracy :0.7165600061416626\n"
     ]
    }
   ],
   "source": [
    "#task 8\n",
    "#BUILD a deep learning model using LSTM layer in keras for imdb datasets\n",
    "\n",
    "\n",
    "import tensorflow as tf\n",
    "from tensorflow.keras.preprocessing.sequence import pad_sequences\n",
    "from tensorflow.keras.models import Sequential\n",
    "from tensorflow.keras.layers import Embedding,LSTM,Dense\n",
    "from tensorflow.keras.datasets import imdb\n",
    "\n",
    "#load the imdb dataset\n",
    "\n",
    "max_features=10000\n",
    "maxlen=500\n",
    "\n",
    "(x_train,y_train),(x_test,y_test)=imdb.load_data(num_words=max_features)\n",
    "\n",
    "#pad the sequences to ensure uniform length\n",
    "\n",
    "x_train=pad_sequences(x_train,maxlen=maxlen)\n",
    "x_test=pad_sequences(x_test,maxlen=maxlen)\n",
    "\n",
    "#build the model\n",
    "\n",
    "model=Sequential([\n",
    "    Embedding(max_features,128,input_length=maxlen),\n",
    "    LSTM(128),\n",
    "    Dense(1,activation='sigmoid')\n",
    "])\n",
    "\n",
    "#compile the model\n",
    "\n",
    "model.compile(optimizer='adam',loss='binary_crossentropy',metrics=['accuracy'])\n",
    "\n",
    "#train the model\n",
    "\n",
    "model.fit(x_train,y_train,epochs=1,batch_size=32,validation_split=0.2)\n",
    "#the epoch should be 10\n",
    "#evalauate the model\n",
    "\n",
    "test_loss,test_acc=model.evaluate(x_test,y_test)\n",
    "\n",
    "print(f'Test aAccuracy :{test_acc}')"
   ]
  },
  {
   "cell_type": "code",
   "execution_count": null,
   "id": "71e66308",
   "metadata": {},
   "outputs": [],
   "source": []
  }
 ],
 "metadata": {
  "kernelspec": {
   "display_name": "Python 3 (ipykernel)",
   "language": "python",
   "name": "python3"
  },
  "language_info": {
   "codemirror_mode": {
    "name": "ipython",
    "version": 3
   },
   "file_extension": ".py",
   "mimetype": "text/x-python",
   "name": "python",
   "nbconvert_exporter": "python",
   "pygments_lexer": "ipython3",
   "version": "3.11.5"
  }
 },
 "nbformat": 4,
 "nbformat_minor": 5
}
