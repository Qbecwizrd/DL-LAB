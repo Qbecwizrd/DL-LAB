{
 "cells": [
  {
   "cell_type": "code",
   "execution_count": null,
   "id": "3e122a09",
   "metadata": {},
   "outputs": [
    {
     "name": "stdout",
     "output_type": "stream",
     "text": [
      "Epoch 1/2\n"
     ]
    },
    {
     "name": "stderr",
     "output_type": "stream",
     "text": [
      "C:\\Users\\DELL\\anaconda3\\Lib\\site-packages\\keras\\src\\layers\\core\\embedding.py:90: UserWarning: Argument `input_length` is deprecated. Just remove it.\n",
      "  warnings.warn(\n"
     ]
    },
    {
     "name": "stdout",
     "output_type": "stream",
     "text": [
      "\u001b[1m625/625\u001b[0m \u001b[32m━━━━━━━━━━━━━━━━━━━━\u001b[0m\u001b[37m\u001b[0m \u001b[1m77s\u001b[0m 118ms/step - accuracy: 0.6685 - loss: 0.5909 - val_accuracy: 0.8118 - val_loss: 0.4138\n",
      "Epoch 2/2\n",
      "\u001b[1m625/625\u001b[0m \u001b[32m━━━━━━━━━━━━━━━━━━━━\u001b[0m\u001b[37m\u001b[0m \u001b[1m174s\u001b[0m 279ms/step - accuracy: 0.8250 - loss: 0.3936 - val_accuracy: 0.8220 - val_loss: 0.3822\n",
      "\u001b[1m263/782\u001b[0m \u001b[32m━━━━━━\u001b[0m\u001b[37m━━━━━━━━━━━━━━\u001b[0m \u001b[1m42s\u001b[0m 82ms/step - accuracy: 0.8318 - loss: 0.3745"
     ]
    }
   ],
   "source": [
    "#task 4\n",
    "#GRU based deep learning model for IMDB model\n",
    "\n",
    "import tensorflow as tf\n",
    "from tensorflow.keras.datasets import imdb\n",
    "from tensorflow.keras.preprocessing.sequence import pad_sequences\n",
    "from tensorflow.keras.models import Sequential\n",
    "from tensorflow.keras.layers import Embedding, GRU, LSTM, Dense\n",
    "\n",
    "\n",
    "#load the imdb dataset\n",
    "\n",
    "max_features=1000\n",
    "max_len=100\n",
    "\n",
    "(x_train,y_train),(x_test,y_test)=imdb.load_data(num_words=max_features)\n",
    "\n",
    "#pad the sequences to ensure uniform length\n",
    "x_train = pad_sequences(x_train, maxlen=max_len)\n",
    "x_test = pad_sequences(x_test,maxlen=max_len)\n",
    "\n",
    "\n",
    "#Build the GRU Model\n",
    "\n",
    "gru_model=Sequential([\n",
    "    Embedding(max_features,128,input_length=max_len),\n",
    "    GRU(128,return_sequences=True),\n",
    "    GRU(128),\n",
    "    Dense(1,activation='sigmoid')\n",
    "])\n",
    "\n",
    "\n",
    "#compile the model\n",
    "\n",
    "gru_model.compile(optimizer='adam',loss='binary_crossentropy',metrics=['accuracy'])\n",
    "\n",
    "\n",
    "#train the GRU Model\n",
    "# Train the GRU Model\n",
    "gru_model.fit(x_train, y_train, epochs=2, batch_size=32,validation_split=0.2)\n",
    "\n",
    "\n",
    "#evaluate the GRU Model\n",
    "\n",
    "gru_loss,gru_accuracy=gru_model.evaluate(x_test,y_test)\n",
    "\n",
    "\n"
   ]
  },
  {
   "cell_type": "code",
   "execution_count": 3,
   "id": "ca4beb66",
   "metadata": {},
   "outputs": [
    {
     "name": "stdout",
     "output_type": "stream",
     "text": [
      "0.3703170418739319 0.8331999778747559\n"
     ]
    }
   ],
   "source": [
    "print(gru_loss,gru_accuracy)"
   ]
  },
  {
   "cell_type": "code",
   "execution_count": null,
   "id": "a32fe145",
   "metadata": {},
   "outputs": [],
   "source": []
  }
 ],
 "metadata": {
  "kernelspec": {
   "display_name": "Python 3 (ipykernel)",
   "language": "python",
   "name": "python3"
  },
  "language_info": {
   "codemirror_mode": {
    "name": "ipython",
    "version": 3
   },
   "file_extension": ".py",
   "mimetype": "text/x-python",
   "name": "python",
   "nbconvert_exporter": "python",
   "pygments_lexer": "ipython3",
   "version": "3.11.5"
  }
 },
 "nbformat": 4,
 "nbformat_minor": 5
}
